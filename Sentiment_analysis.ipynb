{
 "cells": [
  {
   "cell_type": "code",
   "execution_count": 0,
   "metadata": {
    "colab": {},
    "colab_type": "code",
    "id": "46nGSk-CAI0x"
   },
   "outputs": [],
   "source": [
    "# Get the sentimet of text from website"
   ]
  },
  {
   "cell_type": "code",
   "execution_count": 0,
   "metadata": {
    "colab": {},
    "colab_type": "code",
    "id": "jAhNFEaKAkE0"
   },
   "outputs": [],
   "source": [
    "pip install newspaper3k"
   ]
  },
  {
   "cell_type": "code",
   "execution_count": 0,
   "metadata": {
    "colab": {},
    "colab_type": "code",
    "id": "oaHbcOt2A3Bx"
   },
   "outputs": [],
   "source": [
    "#Import the libraries\n",
    "from textblob import TextBlob\n",
    "import nltk\n",
    "from newspaper import Article"
   ]
  },
  {
   "cell_type": "code",
   "execution_count": 0,
   "metadata": {
    "colab": {},
    "colab_type": "code",
    "id": "hWXB_WbOBP-d"
   },
   "outputs": [],
   "source": [
    "# Get the article\n",
    "url = 'https://active.ai/'\n",
    "article = Article(url)"
   ]
  },
  {
   "cell_type": "code",
   "execution_count": 8,
   "metadata": {
    "colab": {
     "base_uri": "https://localhost:8080/",
     "height": 51
    },
    "colab_type": "code",
    "id": "Ry9ctYSEB5MI",
    "outputId": "79ab4d09-256c-49d7-c7ef-5f1a8f14b7b1"
   },
   "outputs": [
    {
     "name": "stdout",
     "output_type": "stream",
     "text": [
      "[nltk_data] Downloading package punkt to /root/nltk_data...\n",
      "[nltk_data]   Package punkt is already up-to-date!\n"
     ]
    }
   ],
   "source": [
    "# Do some NLP\n",
    "article.download()\n",
    "article.parse()\n",
    "nltk.download('punkt')\n",
    "article.nlp()"
   ]
  },
  {
   "cell_type": "code",
   "execution_count": 0,
   "metadata": {
    "colab": {},
    "colab_type": "code",
    "id": "4-fMip-JCldg"
   },
   "outputs": [],
   "source": [
    "# Get the summary of the article\n",
    "text = article.summary\n",
    "\n"
   ]
  },
  {
   "cell_type": "code",
   "execution_count": 10,
   "metadata": {
    "colab": {
     "base_uri": "https://localhost:8080/",
     "height": 122
    },
    "colab_type": "code",
    "id": "AlKqxu0bCzYg",
    "outputId": "6da15dd4-7acc-402f-bcf2-03dfdd4b64ba"
   },
   "outputs": [
    {
     "name": "stdout",
     "output_type": "stream",
     "text": [
      "TRF2018020192039402/01/2018 14:03:53gr8 you're awesome 2:03 pm ✓No problem =) 2:03 pm ✓Here comes the boring part.. pay my phone bill 2:03 pm ✓Oh come on, you shouldn't feel bad about being responsible!\n",
      "2:03 pm ✓Alright, should I pay your phone bill of $186 through your Everyday Savings Account too?\n",
      "2:03 pm ✓You're only paying the minimum of $80 for your phone bill of $186 using your Everyday Savings Account 2:03 pm ✓ No YesYup thks 2:03 pm ✓No problem.\n",
      "2:03 pm ✓By the way, if you use your savings account to pay $20 more to your phone bill(min.\n",
      "You paid a total of $100 to your phone bill of $186.\n"
     ]
    }
   ],
   "source": [
    "#print the text\n",
    "print(text)"
   ]
  },
  {
   "cell_type": "code",
   "execution_count": 13,
   "metadata": {
    "colab": {
     "base_uri": "https://localhost:8080/",
     "height": 34
    },
    "colab_type": "code",
    "id": "JjKQQrB6CqMn",
    "outputId": "6c8fb3d3-2816-4383-cbf3-3c4fb59549be"
   },
   "outputs": [
    {
     "name": "stdout",
     "output_type": "stream",
     "text": [
      "0\n"
     ]
    }
   ],
   "source": [
    "# Create a textblob object\n",
    "obj = TextBlob(text)\n",
    "\n",
    "# This returns a value between -1 and 1\n",
    "sentiment = obj.sentiment.polarity\n",
    "print(sentiment)"
   ]
  },
  {
   "cell_type": "code",
   "execution_count": 14,
   "metadata": {
    "colab": {
     "base_uri": "https://localhost:8080/",
     "height": 34
    },
    "colab_type": "code",
    "id": "ckgrTYRIEKCb",
    "outputId": "3ecf60d7-9dc7-419e-fb29-9f9ae8076e07"
   },
   "outputs": [
    {
     "name": "stdout",
     "output_type": "stream",
     "text": [
      "The text is Positive\n"
     ]
    }
   ],
   "source": [
    "if sentiment == 0:\n",
    "  print('The text is Neutral')\n",
    "elif sentiment > 0:\n",
    "  print('The text is Positive')\n",
    "else:\n",
    "  print('The text is Negative')"
   ]
  }
 ],
 "metadata": {
  "colab": {
   "collapsed_sections": [],
   "name": "Sentiment analysis.ipynb",
   "provenance": []
  },
  "kernelspec": {
   "display_name": "Python 3",
   "language": "python",
   "name": "python3"
  },
  "language_info": {
   "codemirror_mode": {
    "name": "ipython",
    "version": 3
   },
   "file_extension": ".py",
   "mimetype": "text/x-python",
   "name": "python",
   "nbconvert_exporter": "python",
   "pygments_lexer": "ipython3",
   "version": "3.7.4"
  }
 },
 "nbformat": 4,
 "nbformat_minor": 1
}
